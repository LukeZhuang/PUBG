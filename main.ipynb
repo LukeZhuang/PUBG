{
 "cells": [
  {
   "cell_type": "code",
   "execution_count": 1,
   "metadata": {},
   "outputs": [],
   "source": [
    "import numpy as np\n",
    "import pandas as pd\n",
    "import seaborn as sns\n",
    "import matplotlib.pyplot as plt\n",
    "import warnings\n",
    "warnings.filterwarnings(\"ignore\")\n",
    "np.random.seed(123)\n",
    "import time"
   ]
  },
  {
   "cell_type": "code",
   "execution_count": 2,
   "metadata": {},
   "outputs": [],
   "source": [
    "train_raw = pd.read_csv('data/train_V2.csv')\n",
    "test_raw = pd.read_csv('data/test_V2.csv')"
   ]
  },
  {
   "cell_type": "markdown",
   "metadata": {},
   "source": [
    "# 1. Basic Statistics"
   ]
  },
  {
   "cell_type": "code",
   "execution_count": 3,
   "metadata": {},
   "outputs": [
    {
     "name": "stdout",
     "output_type": "stream",
     "text": [
      "training set size: 4446966, testing set size: 1934174, feature size: 28\n"
     ]
    }
   ],
   "source": [
    "print(\"training set size: {}, testing set size: {}, feature size: {}\".format(train_raw.values.shape[0],test_raw.values.shape[0],test_raw.values.shape[1]))"
   ]
  },
  {
   "cell_type": "markdown",
   "metadata": {},
   "source": [
    "#### Feature labels"
   ]
  },
  {
   "cell_type": "code",
   "execution_count": 4,
   "metadata": {},
   "outputs": [
    {
     "data": {
      "text/plain": [
       "['Id',\n",
       " 'groupId',\n",
       " 'matchId',\n",
       " 'assists',\n",
       " 'boosts',\n",
       " 'damageDealt',\n",
       " 'DBNOs',\n",
       " 'headshotKills',\n",
       " 'heals',\n",
       " 'killPlace',\n",
       " 'killPoints',\n",
       " 'kills',\n",
       " 'killStreaks',\n",
       " 'longestKill',\n",
       " 'matchDuration',\n",
       " 'matchType',\n",
       " 'maxPlace',\n",
       " 'numGroups',\n",
       " 'rankPoints',\n",
       " 'revives',\n",
       " 'rideDistance',\n",
       " 'roadKills',\n",
       " 'swimDistance',\n",
       " 'teamKills',\n",
       " 'vehicleDestroys',\n",
       " 'walkDistance',\n",
       " 'weaponsAcquired',\n",
       " 'winPoints']"
      ]
     },
     "execution_count": 4,
     "metadata": {},
     "output_type": "execute_result"
    }
   ],
   "source": [
    "list(test_raw)"
   ]
  },
  {
   "cell_type": "markdown",
   "metadata": {},
   "source": [
    "#### Win place percentage (the probability of winning)"
   ]
  },
  {
   "cell_type": "code",
   "execution_count": 5,
   "metadata": {},
   "outputs": [
    {
     "name": "stdout",
     "output_type": "stream",
     "text": [
      "[(0.0, 220505), (1.0, 7808), (2.0, 37815), (3.0, 101079), (4.0, 53222), (5.0, 8312), (6.0, 52929), (7.0, 80184), (8.0, 48119), (9.0, 11873), (10.0, 66548), (11.0, 59998), (12.0, 40639), (13.0, 33082), (14.0, 71118), (15.0, 38212), (16.0, 36804), (17.0, 52973), (18.0, 46126), (19.0, 39758), (20.0, 50448), (21.0, 40382), (22.0, 47821), (23.0, 43910), (24.0, 30917), (25.0, 71192), (26.0, 42665), (27.0, 34115), (28.0, 46096), (29.0, 50217), (30.0, 39652), (31.0, 36195), (32.0, 43511), (33.0, 45071), (34.0, 52322), (35.0, 36749), (36.0, 36209), (37.0, 50948), (38.0, 37829), (39.0, 36088), (40.0, 55463), (41.0, 32607), (42.0, 53076), (43.0, 25318), (44.0, 56335), (45.0, 24962), (46.0, 55892), (47.0, 21872), (48.0, 56479), (49.0, 3635), (50.0, 58695), (51.0, 48149), (52.0, 29186), (53.0, 54335), (54.0, 23832), (55.0, 46632), (56.0, 31524), (57.0, 49756), (58.0, 30086), (59.0, 35827), (60.0, 48610), (61.0, 34937), (62.0, 46401), (63.0, 25429), (64.0, 40660), (65.0, 47637), (66.0, 40568), (67.0, 31105), (68.0, 40467), (69.0, 31952), (70.0, 48390), (71.0, 32868), (72.0, 38450), (73.0, 37686), (74.0, 32939), (75.0, 47755), (76.0, 45912), (77.0, 41760), (78.0, 35536), (79.0, 28130), (80.0, 50178), (81.0, 39634), (82.0, 45536), (83.0, 24287), (84.0, 40244), (85.0, 60262), (86.0, 29277), (87.0, 28172), (88.0, 56466), (89.0, 53384), (90.0, 15009), (91.0, 35162), (92.0, 70520), (93.0, 47750), (94.0, 7911), (95.0, 38204), (96.0, 84804), (97.0, 34785), (98.0, 7513), (99.0, 0), (100.0, 127573)]\n"
     ]
    }
   ],
   "source": [
    "wpp_count,wpp_div = np.histogram(train_raw['winPlacePerc']*100,bins=101,range=(0, 101))\n",
    "print(list(zip(wpp_div,wpp_count)))"
   ]
  },
  {
   "cell_type": "code",
   "execution_count": 6,
   "metadata": {},
   "outputs": [
    {
     "data": {
      "image/png": "[encoded data removed]",
      "text/plain": [
       "<Figure size 432x288 with 1 Axes>"
      ]
     },
     "metadata": {},
     "output_type": "display_data"
    }
   ],
   "source": [
    "hist_wpp = train_raw['winPlacePerc'].hist(bins=101)\n",
    "fig=hist_wpp.get_figure()\n",
    "fig.savefig('dis-winPlacePerc.png')"
   ]
  },
  {
   "cell_type": "markdown",
   "metadata": {},
   "source": [
    "#### Kills (number of kills in one game)"
   ]
  },
  {
   "cell_type": "code",
   "execution_count": 7,
   "metadata": {},
   "outputs": [
    {
     "name": "stdout",
     "output_type": "stream",
     "text": [
      "[(0.0, 2529722), (1.0, 928079), (2.0, 472466), (3.0, 232441), (4.0, 124543), (5.0, 66577), (6.0, 37960), (7.0, 21816), (8.0, 12779), (9.0, 7644), (10.0, 4599), (11.0, 2799), (12.0, 1755), (13.0, 1137), (14.0, 757), (15.0, 484), (16.0, 325), (17.0, 234), (18.0, 165), (19.0, 112), (20.0, 109), (21.0, 70), (22.0, 77), (23.0, 47), (24.0, 44), (25.0, 27), (26.0, 27), (27.0, 21), (28.0, 22), (29.0, 13), (30.0, 13), (31.0, 13), (32.0, 4), (33.0, 12), (34.0, 5), (35.0, 7), (36.0, 8), (37.0, 5), (38.0, 7), (39.0, 4), (40.0, 4), (41.0, 5), (42.0, 3), (43.0, 3), (44.0, 2), (45.0, 1), (46.0, 2), (47.0, 1), (48.0, 1), (49.0, 1), (50.0, 1), (51.0, 0), (52.0, 0), (53.0, 4), (54.0, 0), (55.0, 2), (56.0, 2), (57.0, 2), (58.0, 0), (59.0, 0), (60.0, 0), (61.0, 0), (62.0, 0), (63.0, 0), (64.0, 0), (65.0, 1), (66.0, 1), (67.0, 0), (68.0, 0), (69.0, 0), (70.0, 0), (71.0, 1)]\n"
     ]
    }
   ],
   "source": [
    "kill_count,kill_div = np.histogram(train_raw['kills'],bins=train_raw['kills'].max()-train_raw['kills'].min())\n",
    "print(list(zip(kill_div,kill_count)))"
   ]
  },
  {
   "cell_type": "code",
   "execution_count": 8,
   "metadata": {},
   "outputs": [
    {
     "data": {
      "image/png": "[encoded data removed]",
      "text/plain": [
       "<Figure size 432x288 with 1 Axes>"
      ]
     },
     "metadata": {},
     "output_type": "display_data"
    }
   ],
   "source": [
    "hist_kills = train_raw['kills'].hist(bins=train_raw['kills'].max()-train_raw['kills'].min())\n",
    "fig=hist_kills.get_figure()\n",
    "fig.savefig('dis-kills.png')"
   ]
  },
  {
   "cell_type": "markdown",
   "metadata": {},
   "source": [
    "#### longest kill"
   ]
  },
  {
   "cell_type": "code",
   "execution_count": 9,
   "metadata": {},
   "outputs": [
    {
     "name": "stdout",
     "output_type": "stream",
     "text": [
      "[(0.0, 3008258), (10.831683168316832, 335858), (21.663366336633665, 226832), (32.4950495049505, 155691), (43.32673267326733, 113665), (54.15841584158416, 89074), (64.990099009901, 74536), (75.82178217821783, 63335), (86.65346534653466, 53160), (97.48514851485149, 45014), (108.31683168316832, 37778), (119.14851485148516, 32314), (129.980198019802, 27422), (140.81188118811883, 23441), (151.64356435643566, 20666), (162.4752475247525, 18761), (173.30693069306932, 16968), (184.13861386138615, 14615), (194.97029702970298, 12883), (205.8019801980198, 11125), (216.63366336633663, 9380), (227.4653465346535, 8137), (238.29702970297032, 6801), (249.12871287128715, 5828), (259.960396039604, 4986), (270.79207920792084, 4358), (281.62376237623766, 3670), (292.4554455445545, 3172), (303.2871287128713, 2709), (314.11881188118815, 2264), (324.950495049505, 1948), (335.7821782178218, 1779), (346.61386138613864, 1387), (357.44554455445547, 1284), (368.2772277227723, 972), (379.1089108910891, 885), (389.94059405940595, 749), (400.7722772277228, 643), (411.6039603960396, 526), (422.43564356435644, 494), (433.26732673267327, 431), (444.09900990099015, 348), (454.930693069307, 289), (465.7623762376238, 277), (476.59405940594064, 248), (487.42574257425747, 191), (498.2574257425743, 165), (509.0891089108911, 166), (519.920792079208, 137), (530.7524752475248, 126), (541.5841584158417, 97), (552.4158415841584, 111), (563.2475247524753, 80), (574.0792079207921, 72), (584.910891089109, 66), (595.7425742574258, 47), (606.5742574257426, 58), (617.4059405940594, 39), (628.2376237623763, 45), (639.0693069306931, 30), (649.90099009901, 39), (660.7326732673267, 34), (671.5643564356436, 34), (682.3960396039604, 24), (693.2277227722773, 22), (704.0594059405942, 22), (714.8910891089109, 23), (725.7227722772278, 21), (736.5544554455446, 19), (747.3861386138615, 15), (758.2178217821782, 25), (769.0495049504951, 17), (779.8811881188119, 11), (790.7128712871288, 10), (801.5445544554456, 8), (812.3762376237624, 9), (823.2079207920792, 11), (834.0396039603961, 13), (844.8712871287129, 18), (855.7029702970298, 10), (866.5346534653465, 13), (877.3663366336634, 12), (888.1980198019803, 17), (899.0297029702971, 10), (909.861386138614, 11), (920.6930693069307, 13), (931.5247524752476, 14), (942.3564356435644, 10), (953.1881188118813, 7), (964.019801980198, 15), (974.8514851485149, 21), (985.6831683168317, 18), (996.5148514851486, 14), (1007.3465346534654, 2), (1018.1782178217823, 2), (1029.0099009900991, 3), (1039.841584158416, 1), (1050.6732673267327, 2), (1061.5049504950496, 2), (1072.3366336633665, 2), (1083.1683168316833, 1)]\n"
     ]
    }
   ],
   "source": [
    "wpp_count,wpp_div = np.histogram(train_raw['longestKill'],bins=101)\n",
    "print(list(zip(wpp_div,wpp_count)))"
   ]
  },
  {
   "cell_type": "code",
   "execution_count": 10,
   "metadata": {},
   "outputs": [
    {
     "data": {
      "image/png": "[encoded data removed]",
      "text/plain": [
       "<Figure size 432x288 with 1 Axes>"
      ]
     },
     "metadata": {},
     "output_type": "display_data"
    }
   ],
   "source": [
    "hist_longests = train_raw['longestKill'].hist(bins=101)\n",
    "fig=hist_longests.get_figure()\n",
    "fig.savefig('dis-longest.png')"
   ]
  },
  {
   "cell_type": "markdown",
   "metadata": {},
   "source": [
    "#### Assists (number of helping team member kills in one game)"
   ]
  },
  {
   "cell_type": "code",
   "execution_count": 11,
   "metadata": {},
   "outputs": [
    {
     "name": "stdout",
     "output_type": "stream",
     "text": [
      "[(0.0, 3667660), (1.0, 591883), (2.0, 137144), (3.0, 35640), (4.0, 9990), (5.0, 2892), (6.0, 976), (7.0, 387), (8.0, 185), (9.0, 84), (10.0, 48), (11.0, 27), (12.0, 20), (13.0, 16), (14.0, 2), (15.0, 7), (16.0, 0), (17.0, 2), (18.0, 0), (19.0, 0), (20.0, 1), (21.0, 2)]\n"
     ]
    }
   ],
   "source": [
    "assist_count,assist_div = np.histogram(train_raw['assists'],bins=train_raw['assists'].max()-train_raw['assists'].min())\n",
    "print(list(zip(assist_div,assist_count)))"
   ]
  },
  {
   "cell_type": "code",
   "execution_count": 12,
   "metadata": {},
   "outputs": [
    {
     "data": {
      "image/png": "[encoded data removed]",
      "text/plain": [
       "<Figure size 432x288 with 1 Axes>"
      ]
     },
     "metadata": {},
     "output_type": "display_data"
    }
   ],
   "source": [
    "hist_assist = train_raw['assists'].hist(bins=train_raw['assists'].max()-train_raw['assists'].min())\n",
    "fig=hist_assist.get_figure()\n",
    "fig.savefig('dis-assists.png')"
   ]
  },
  {
   "cell_type": "markdown",
   "metadata": {},
   "source": [
    "#### DBNOs (number of knocking down ememies)"
   ]
  },
  {
   "cell_type": "code",
   "execution_count": 13,
   "metadata": {},
   "outputs": [
    {
     "name": "stdout",
     "output_type": "stream",
     "text": [
      "[(0.0, 2773735), (1.0, 983281), (2.0, 395119), (3.0, 162682), (4.0, 69307), (5.0, 31686), (6.0, 14977), (7.0, 7291), (8.0, 3694), (9.0, 1966), (10.0, 1110), (11.0, 643), (12.0, 466), (13.0, 275), (14.0, 177), (15.0, 137), (16.0, 87), (17.0, 80), (18.0, 64), (19.0, 34), (20.0, 30), (21.0, 26), (22.0, 18), (23.0, 14), (24.0, 10), (25.0, 16), (26.0, 11), (27.0, 6), (28.0, 3), (29.0, 1), (30.0, 1), (31.0, 3), (32.0, 3), (33.0, 7), (34.0, 0), (35.0, 1), (36.0, 0), (37.0, 0), (38.0, 1), (39.0, 2), (40.0, 1), (41.0, 0), (42.0, 0), (43.0, 0), (44.0, 0), (45.0, 0), (46.0, 0), (47.0, 0), (48.0, 0), (49.0, 0), (50.0, 0), (51.0, 0), (52.0, 1)]\n"
     ]
    }
   ],
   "source": [
    "DBNOs_count,DBNOs_div = np.histogram(train_raw['DBNOs'],bins=train_raw['DBNOs'].max()-train_raw['DBNOs'].min())\n",
    "print(list(zip(DBNOs_div,DBNOs_count)))"
   ]
  },
  {
   "cell_type": "code",
   "execution_count": 14,
   "metadata": {},
   "outputs": [
    {
     "data": {
      "image/png": "[encoded data removed]",
      "text/plain": [
       "<Figure size 432x288 with 1 Axes>"
      ]
     },
     "metadata": {},
     "output_type": "display_data"
    }
   ],
   "source": [
    "hist_DBNOs = train_raw['DBNOs'].hist(bins=train_raw['DBNOs'].max()-train_raw['DBNOs'].min())\n",
    "fig=hist_DBNOs.get_figure()\n",
    "fig.savefig('dis-DBNOs.png')"
   ]
  },
  {
   "cell_type": "markdown",
   "metadata": {},
   "source": [
    "#### drop abnormal rows (kill > 30, DBNO > 40, longestkill > 1000)"
   ]
  },
  {
   "cell_type": "code",
   "execution_count": 15,
   "metadata": {},
   "outputs": [],
   "source": [
    "train_raw.drop(train_raw[train_raw['kills'] > 30].index, inplace=True)\n",
    "train_raw.drop(train_raw[train_raw['DBNOs'] > 40].index, inplace=True)\n",
    "train_raw.drop(train_raw[train_raw['longestKill'] > 1000].index, inplace=True)"
   ]
  },
  {
   "cell_type": "code",
   "execution_count": 16,
   "metadata": {},
   "outputs": [],
   "source": [
    "train_raw.drop(train_raw[train_raw['winPlacePerc'].isnull()].index, inplace=True)"
   ]
  },
  {
   "cell_type": "code",
   "execution_count": 17,
   "metadata": {},
   "outputs": [
    {
     "name": "stdout",
     "output_type": "stream",
     "text": [
      "[(0.0, 2529721), (1.0, 928077), (2.0, 472466), (3.0, 232440), (4.0, 124542), (5.0, 66576), (6.0, 37958), (7.0, 21816), (8.0, 12778), (9.0, 7644), (10.0, 4596), (11.0, 2797), (12.0, 1755), (13.0, 1135), (14.0, 756), (15.0, 483), (16.0, 324), (17.0, 234), (18.0, 165), (19.0, 112), (20.0, 108), (21.0, 70), (22.0, 76), (23.0, 46), (24.0, 44), (25.0, 27), (26.0, 27), (27.0, 21), (28.0, 22), (29.0, 26)]\n"
     ]
    }
   ],
   "source": [
    "# to see the result\n",
    "kill_count,kill_div = np.histogram(train_raw['kills'],bins=train_raw['kills'].max()-train_raw['kills'].min())\n",
    "print(list(zip(kill_div,kill_count)))"
   ]
  },
  {
   "cell_type": "markdown",
   "metadata": {},
   "source": [
    "#### Info of different matchTypes"
   ]
  },
  {
   "cell_type": "code",
   "execution_count": 18,
   "metadata": {},
   "outputs": [
    {
     "name": "stdout",
     "output_type": "stream",
     "text": [
      "Group by matchType:\n",
      "size of squad-fpp: 1756186\n",
      "size of duo: 313590\n",
      "size of solo-fpp: 536761\n",
      "size of squad: 626525\n",
      "size of duo-fpp: 996691\n",
      "size of solo: 181942\n",
      "size of normal-squad-fpp: 17125\n",
      "size of crashfpp: 6287\n",
      "size of flaretpp: 2505\n",
      "size of normal-solo-fpp: 1637\n",
      "size of flarefpp: 718\n",
      "size of normal-duo-fpp: 5475\n",
      "size of normal-duo: 198\n",
      "size of normal-squad: 510\n",
      "size of crashtpp: 371\n",
      "size of normal-solo: 321\n"
     ]
    }
   ],
   "source": [
    "group_names = train_raw['matchType'].unique()\n",
    "groups = train_raw.groupby(by='matchType')\n",
    "squadfpp_gp = groups.get_group('squad-fpp')\n",
    "duo_gp = groups.get_group('duo')\n",
    "solofpp_gp = groups.get_group('solo-fpp')\n",
    "squad_gp = groups.get_group('squad')\n",
    "duofpp_gp = groups.get_group('duo-fpp')\n",
    "normalsquadfpp_gp = groups.get_group('normal-squad-fpp')\n",
    "solo_gp = groups.get_group('solo')\n",
    "crashfpp_gp = groups.get_group('crashfpp')\n",
    "flaretpp_gp = groups.get_group('flaretpp')\n",
    "normalsolofpp_gp = groups.get_group('normal-solo-fpp')\n",
    "flarefpp_gp = groups.get_group('flarefpp')\n",
    "normalduofpp_gp = groups.get_group('normal-duo-fpp')\n",
    "normalduo_gp = groups.get_group('normal-duo')\n",
    "normalsquad_gp = groups.get_group('normal-squad')\n",
    "crashtpp_gp = groups.get_group('crashtpp')\n",
    "normalsolo_gp = groups.get_group('normal-solo')\n",
    "print(\"Group by matchType:\")\n",
    "for name in group_names:\n",
    "    tmp_df = groups.get_group(name)\n",
    "    print(\"size of {}: {}\".format(name, tmp_df.values.shape[0]))\n",
    "match_types={}\n",
    "match_types['squad-fpp']=squadfpp_gp\n",
    "match_types['duo']=duo_gp\n",
    "match_types['solo-fpp']=solofpp_gp\n",
    "match_types['squad']=squad_gp\n",
    "match_types['duo-fpp']=duofpp_gp\n",
    "match_types['normal-squad-fpp']=normalsquadfpp_gp\n",
    "match_types['solo']=solo_gp\n",
    "match_types['crashfpp']=crashfpp_gp\n",
    "match_types['flaretpp']=flaretpp_gp\n",
    "match_types['normal-solo-fpp']=normalsolofpp_gp\n",
    "match_types['flarefpp']=flarefpp_gp\n",
    "match_types['normal-duo-fpp']=normalduofpp_gp\n",
    "match_types['normal-duo']=normalduo_gp\n",
    "match_types['normal-squad']=normalsquad_gp\n",
    "match_types['crashtpp']=crashtpp_gp\n",
    "match_types['normal-solo']=normalsolo_gp"
   ]
  },
  {
   "cell_type": "markdown",
   "metadata": {},
   "source": [
    "# 2. Feature Selection"
   ]
  },
  {
   "cell_type": "markdown",
   "metadata": {},
   "source": [
    "calculate the correlation matrix between features, and remove the features that correlation greater than 0.9 and less than -0.9"
   ]
  },
  {
   "cell_type": "code",
   "execution_count": 19,
   "metadata": {},
   "outputs": [],
   "source": [
    "features = list(train_raw)\n",
    "features.remove('matchType')\n",
    "features=features[3:-1]\n",
    "train = train_raw[features]\n",
    "corr = train.corr()"
   ]
  },
  {
   "cell_type": "code",
   "execution_count": null,
   "metadata": {},
   "outputs": [],
   "source": [
    "plt.subplots(figsize=(20,15))\n",
    "f=sns.heatmap(corr,center=0,vmin=-1,vmax=1)\n",
    "fig=f.get_figure()\n",
    "fig.savefig('correlation.png')"
   ]
  },
  {
   "cell_type": "code",
   "execution_count": null,
   "metadata": {},
   "outputs": [],
   "source": [
    "colums_used=[True]*len(features)\n",
    "for i in range(corr.shape[0]):\n",
    "    for j in range(i+1,corr.shape[0]):\n",
    "        if corr.iloc[i][j]>=0.9 or corr.iloc[i,j]<-0.9:\n",
    "            if colums_used[j]:\n",
    "                colums_used[j]=False\n",
    "                \n",
    "colums_used.insert(12,False) # add back match type\n",
    "colums_used=[False,False,False]+colums_used+[True]\n",
    "selected=train_raw.columns[np.array(colums_used)]\n",
    "print('selected :',selected)\n",
    "print('removed :',train_raw.columns[np.array([(not t) for t in colums_used])])\n",
    "train=train_raw[selected]\n",
    "test=test_raw[test_raw.columns[np.array(colums_used[:-1])]]"
   ]
  },
  {
   "cell_type": "markdown",
   "metadata": {},
   "source": [
    "# 3. Group by matchType"
   ]
  },
  {
   "cell_type": "markdown",
   "metadata": {},
   "source": [
    "In PUBG, there are different type of games(SOLOs,DUOs,SQUADs), and they should be considered separately."
   ]
  },
  {
   "cell_type": "code",
   "execution_count": null,
   "metadata": {},
   "outputs": [],
   "source": [
    "from sklearn.linear_model import LinearRegression\n",
    "import copy"
   ]
  },
  {
   "cell_type": "code",
   "execution_count": null,
   "metadata": {
    "scrolled": false
   },
   "outputs": [],
   "source": [
    "eps=1e-10\n",
    "models={}\n",
    "stats={}\n",
    "for k,v in match_types.items():\n",
    "    print('solving match type:',k)\n",
    "    a=v[selected].as_matrix()\n",
    "    X=a[:,:-1]\n",
    "    y=a[:,-1]\n",
    "    feat_mean=np.mean(X,axis=0)\n",
    "    feat_std=np.std(X,axis=0)\n",
    "    stats[k]=(feat_mean,feat_std)\n",
    "    X=(X-feat_mean)/(feat_std+eps)\n",
    "    reg = LinearRegression().fit(X, y)\n",
    "    models[k]=copy.copy(reg)\n",
    "    theta=reg.coef_\n",
    "    print('theta =',theta)\n",
    "    "
   ]
  },
  {
   "cell_type": "code",
   "execution_count": null,
   "metadata": {},
   "outputs": [],
   "source": [
    "a=models['squad'].coef_\n",
    "ind=np.arange(a.shape[0])\n",
    "plt.subplots(figsize=(10,10))\n",
    "plt.title('feature importance in squad games')\n",
    "plt.xticks(ind, selected, rotation='vertical')\n",
    "_=plt.bar(ind,a)\n",
    "plt.savefig('featImpo-squad.png')"
   ]
  },
  {
   "cell_type": "code",
   "execution_count": null,
   "metadata": {},
   "outputs": [],
   "source": [
    "a=models['solo'].coef_\n",
    "ind=np.arange(a.shape[0])\n",
    "plt.subplots(figsize=(10,10))\n",
    "plt.title('feature importance in solo games')\n",
    "plt.xticks(ind, selected, rotation='vertical')\n",
    "_=plt.bar(ind,a)\n",
    "plt.savefig('featImpo-solo.png')"
   ]
  },
  {
   "cell_type": "markdown",
   "metadata": {},
   "source": [
    "# 4. Final Prediction"
   ]
  },
  {
   "cell_type": "code",
   "execution_count": null,
   "metadata": {},
   "outputs": [],
   "source": [
    "te_group_names = test_raw['matchType'].unique()\n",
    "te_groups = test_raw.groupby(by='matchType')\n",
    "te_squadfpp_gp = te_groups.get_group('squad-fpp')\n",
    "te_duo_gp = te_groups.get_group('duo')\n",
    "te_solofpp_gp = te_groups.get_group('solo-fpp')\n",
    "te_squad_gp = te_groups.get_group('squad')\n",
    "te_duofpp_gp = te_groups.get_group('duo-fpp')\n",
    "te_normalsquadfpp_gp = te_groups.get_group('normal-squad-fpp')\n",
    "te_solo_gp = te_groups.get_group('solo')\n",
    "te_crashfpp_gp = te_groups.get_group('crashfpp')\n",
    "te_flaretpp_gp = te_groups.get_group('flaretpp')\n",
    "te_normalsolofpp_gp = te_groups.get_group('normal-solo-fpp')\n",
    "te_flarefpp_gp = te_groups.get_group('flarefpp')\n",
    "te_normalduofpp_gp = te_groups.get_group('normal-duo-fpp')\n",
    "te_normalduo_gp = te_groups.get_group('normal-duo')\n",
    "te_normalsquad_gp = te_groups.get_group('normal-squad')\n",
    "te_crashtpp_gp = te_groups.get_group('crashtpp')\n",
    "te_normalsolo_gp = te_groups.get_group('normal-solo')\n",
    "print(\"Group by matchType:\")\n",
    "for name in te_group_names:\n",
    "    tmp_df = te_groups.get_group(name)\n",
    "    print(\"size of {}: {}\".format(name, tmp_df.values.shape[0]))\n",
    "te_match_types={}\n",
    "te_match_types['squad-fpp']=te_squadfpp_gp\n",
    "te_match_types['duo']=te_duo_gp\n",
    "te_match_types['solo-fpp']=te_solofpp_gp\n",
    "te_match_types['squad']=te_squad_gp\n",
    "te_match_types['duo-fpp']=te_duofpp_gp\n",
    "te_match_types['normal-squad-fpp']=te_normalsquadfpp_gp\n",
    "te_match_types['solo']=te_solo_gp\n",
    "te_match_types['crashfpp']=te_crashfpp_gp\n",
    "te_match_types['flaretpp']=te_flaretpp_gp\n",
    "te_match_types['normal-solo-fpp']=te_normalsolofpp_gp\n",
    "te_match_types['flarefpp']=te_flarefpp_gp\n",
    "te_match_types['normal-duo-fpp']=te_normalduofpp_gp\n",
    "te_match_types['normal-duo']=te_normalduo_gp\n",
    "te_match_types['normal-squad']=te_normalsquad_gp\n",
    "te_match_types['crashtpp']=te_crashtpp_gp\n",
    "te_match_types['normal-solo']=te_normalsolo_gp"
   ]
  },
  {
   "cell_type": "code",
   "execution_count": null,
   "metadata": {
    "scrolled": false
   },
   "outputs": [],
   "source": [
    "cnt=0\n",
    "fout=open('out.txt','w')\n",
    "fout.write('Id,winPlacePerc\\n')\n",
    "for k,v in te_match_types.items():\n",
    "    model=models[k]\n",
    "    X=v[selected[:-1]].as_matrix()\n",
    "    mu,sig=stats[k]\n",
    "    X=(X-mu)/(sig+eps)\n",
    "    y=model.predict(X)\n",
    "    for i in range(y.shape[0]):\n",
    "        fout.write(v.iloc[i].at['Id']+','+str(y[i])+'\\n')\n",
    "        cnt+=1\n",
    "        if cnt==1 or cnt%50000==0:\n",
    "            print(time.strftime('%Y-%m-%d %H:%M:%S',time.localtime(time.time())),'finished',str(cnt)+'/1934174 lines')\n",
    "fout.close()"
   ]
  },
  {
   "cell_type": "code",
   "execution_count": null,
   "metadata": {},
   "outputs": [],
   "source": []
  }
 ],
 "metadata": {
  "kernelspec": {
   "display_name": "Python 3",
   "language": "python",
   "name": "python3"
  },
  "language_info": {
   "codemirror_mode": {
    "name": "ipython",
    "version": 3
   },
   "file_extension": ".py",
   "mimetype": "text/x-python",
   "name": "python",
   "nbconvert_exporter": "python",
   "pygments_lexer": "ipython3",
   "version": "3.6.4"
  }
 },
 "nbformat": 4,
 "nbformat_minor": 2
}
